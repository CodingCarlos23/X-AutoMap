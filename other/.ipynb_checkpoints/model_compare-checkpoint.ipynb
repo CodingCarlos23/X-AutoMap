{
 "cells": [
  {
   "cell_type": "code",
   "execution_count": null,
   "id": "1d8523be-3a56-402b-b1fb-579c734c58f9",
   "metadata": {},
   "outputs": [],
   "source": [
    "test the open cv location of elements in Fe, then PCA see if it can also get locations of Fe tiff and Bayesian as well "
   ]
  }
 ],
 "metadata": {
  "kernelspec": {
   "display_name": "Python 3 (ipykernel)",
   "language": "python",
   "name": "python3"
  },
  "language_info": {
   "codemirror_mode": {
    "name": "ipython",
    "version": 3
   },
   "file_extension": ".py",
   "mimetype": "text/x-python",
   "name": "python",
   "nbconvert_exporter": "python",
   "pygments_lexer": "ipython3",
   "version": "3.11.7"
  }
 },
 "nbformat": 4,
 "nbformat_minor": 5
}
